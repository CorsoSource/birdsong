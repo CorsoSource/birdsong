{
 "cells": [
  {
   "cell_type": "markdown",
   "metadata": {},
   "source": [
    "# INIT"
   ]
  },
  {
   "cell_type": "code",
   "execution_count": 2,
   "metadata": {},
   "outputs": [
    {
     "name": "stdout",
     "output_type": "stream",
     "text": [
      "C:\\VS Code\\birdsong\n"
     ]
    }
   ],
   "source": [
    "import os, re\n",
    "os.chdir('C:/Workspace/src/birdsong/')\n",
    "# os.chdir(os.path.realpath(os.path.curdir + '/..'))\n",
    "print(os.path.realpath(os.path.curdir))"
   ]
  },
  {
   "cell_type": "code",
   "execution_count": 2,
   "metadata": {},
   "outputs": [],
   "source": [
    "import random, string, arrow, requests, json\n",
    "from time import sleep"
   ]
  },
  {
   "cell_type": "code",
   "execution_count": 3,
   "metadata": {},
   "outputs": [],
   "source": [
    "rint = lambda x: random.randint(0,x)"
   ]
  },
  {
   "cell_type": "code",
   "execution_count": 4,
   "metadata": {},
   "outputs": [],
   "source": [
    "import threading"
   ]
  },
  {
   "cell_type": "markdown",
   "metadata": {},
   "source": [
    "# End to end test"
   ]
  },
  {
   "cell_type": "code",
   "execution_count": 5,
   "metadata": {},
   "outputs": [],
   "source": [
    "from birdsong import *"
   ]
  },
  {
   "cell_type": "code",
   "execution_count": 6,
   "metadata": {},
   "outputs": [],
   "source": [
    "testingDataset = 'Testing'"
   ]
  },
  {
   "cell_type": "code",
   "execution_count": 7,
   "metadata": {},
   "outputs": [
    {
     "name": "stdout",
     "output_type": "stream",
     "text": [
      "['Testing.SAWQUY', 'Testing.TDONAZ', 'Testing.VIYIOL']\n"
     ]
    }
   ],
   "source": [
    "tagPaths = sorted([\n",
    "     '.'.join([testingDataset, ''.join([random.choice(string.ascii_uppercase) for i in range(6)])])\n",
    "    for _ in range(3)\n",
    "])\n",
    "print(tagPaths)"
   ]
  },
  {
   "cell_type": "markdown",
   "metadata": {},
   "source": [
    "## Get view setup"
   ]
  },
  {
   "cell_type": "markdown",
   "metadata": {},
   "source": [
    "### Get view names "
   ]
  },
  {
   "cell_type": "code",
   "execution_count": 8,
   "metadata": {},
   "outputs": [
    {
     "name": "stdout",
     "output_type": "stream",
     "text": [
      "CS-Surface61\n",
      "Test Model\n"
     ]
    }
   ],
   "source": [
    "with CanaryView() as view:\n",
    "    for node in view.browseNodes():\n",
    "        print(node)"
   ]
  },
  {
   "cell_type": "markdown",
   "metadata": {},
   "source": [
    "### Get datasets in view"
   ]
  },
  {
   "cell_type": "code",
   "execution_count": 9,
   "metadata": {},
   "outputs": [
    {
     "name": "stdout",
     "output_type": "stream",
     "text": [
      "ProCHRO\n",
      "Testing\n",
      "Testing2\n",
      "{Diagnostics}\n"
     ]
    }
   ],
   "source": [
    "with CanaryView() as view:\n",
    "    for node in view.browseNodes('CS-Surface61'):\n",
    "        print(node)"
   ]
  },
  {
   "cell_type": "markdown",
   "metadata": {},
   "source": [
    "### Autoresolve for testing"
   ]
  },
  {
   "cell_type": "code",
   "execution_count": 10,
   "metadata": {},
   "outputs": [
    {
     "name": "stdout",
     "output_type": "stream",
     "text": [
      "CS-Surface61\n"
     ]
    }
   ],
   "source": [
    "def getTestingNode():\n",
    "    with CanaryView() as view:\n",
    "        for node in view.browseNodes():\n",
    "            for dataset in view.browseNodes(node):\n",
    "                if dataset == 'Testing':\n",
    "                    return node\n",
    "mainView = getTestingNode()\n",
    "print(mainView)"
   ]
  },
  {
   "cell_type": "markdown",
   "metadata": {},
   "source": [
    "## Inject data for one tag"
   ]
  },
  {
   "cell_type": "code",
   "execution_count": 11,
   "metadata": {},
   "outputs": [],
   "source": [
    "tvqDict = {\n",
    "    tagPaths[0]: [\n",
    "        ('2019-10-01T01:23:45Z', 1.23),\n",
    "        ('2019-10-01 02:34:56Z', 2.34,192),\n",
    "        Tvq('2019-10-01T03:45:01Z', 3.45),\n",
    "        Tvq('2019-10-01 04:56:12Z', 4.56,192),\n",
    "    ]\n",
    "}\n",
    "\n",
    "with CanarySender() as send:\n",
    "    send.storeData(tvqDict)"
   ]
  },
  {
   "cell_type": "markdown",
   "metadata": {},
   "source": [
    "## Retrieve data for one tag"
   ]
  },
  {
   "cell_type": "code",
   "execution_count": 12,
   "metadata": {},
   "outputs": [
    {
     "name": "stdout",
     "output_type": "stream",
     "text": [
      "CS-Surface61.Testing.SAWQUY\n"
     ]
    }
   ],
   "source": [
    "tagPath = mainView + '.' + tagPaths[0]\n",
    "print(tagPath)"
   ]
  },
  {
   "cell_type": "code",
   "execution_count": 13,
   "metadata": {},
   "outputs": [
    {
     "name": "stdout",
     "output_type": "stream",
     "text": [
      "{'timestamp': '2019-09-30T21:56:12-07:00', 'value': None}\n"
     ]
    }
   ],
   "source": [
    "# Get the default value (most recent - will be the No Data value)\n",
    "with CanaryView() as view:\n",
    "    for value in view.getTagData(tagPath):\n",
    "        print(value)"
   ]
  },
  {
   "cell_type": "code",
   "execution_count": 14,
   "metadata": {},
   "outputs": [
    {
     "name": "stdout",
     "output_type": "stream",
     "text": [
      "{'timestamp': '2019-09-30T18:23:45-07:00', 'value': 1.23}\n",
      "{'timestamp': '2019-09-30T19:34:56-07:00', 'value': 2.34}\n"
     ]
    }
   ],
   "source": [
    "# Get multiple values\n",
    "with CanaryView() as view:\n",
    "    for value in view.getTagData(tagPath, \n",
    "                                 start='2019-10-01T00:00:00Z',\n",
    "                                 end  ='2019-10-01T03:00:00Z'):\n",
    "        print(value)"
   ]
  },
  {
   "cell_type": "markdown",
   "metadata": {},
   "source": [
    "## Inject data for multiple tags"
   ]
  },
  {
   "cell_type": "code",
   "execution_count": 15,
   "metadata": {},
   "outputs": [],
   "source": [
    "tvqDict = {\n",
    "    tagPaths[1]: [\n",
    "        ('2019-10-01 01:11:11Z', 1.11),\n",
    "        ('2019-10-01 02:22:22Z', 2.22, 192),\n",
    "        Tvq('2019-10-01 03:33:33Z', 3.33),\n",
    "        Tvq('2019-10-01 04:44:44Z', 4.44, 192),\n",
    "    ],\n",
    "    tagPaths[2]: [\n",
    "        ('2019-10-01 01:00:00Z', 1),\n",
    "        ('2019-10-01 02:00:00Z', 2, 192),\n",
    "        Tvq('2019-10-01T03:00:00Z', 3),\n",
    "        Tvq('2019-10-01 04:00:00Z', 4, 192),\n",
    "    ]\n",
    "}\n",
    "\n",
    "with CanarySender() as send:\n",
    "    send.storeData(tvqDict)"
   ]
  },
  {
   "cell_type": "markdown",
   "metadata": {},
   "source": [
    "## Retrieve data for multiple tags"
   ]
  },
  {
   "cell_type": "code",
   "execution_count": 16,
   "metadata": {},
   "outputs": [
    {
     "name": "stdout",
     "output_type": "stream",
     "text": [
      "['CS-Surface61.Testing.TDONAZ', 'CS-Surface61.Testing.VIYIOL']\n"
     ]
    }
   ],
   "source": [
    "tagList = [mainView + '.' + tagPath for tagPath in tagPaths[1:3]]\n",
    "print(tagList)"
   ]
  },
  {
   "cell_type": "code",
   "execution_count": 17,
   "metadata": {},
   "outputs": [
    {
     "name": "stdout",
     "output_type": "stream",
     "text": [
      "CS-Surface61.Testing.TDONAZ\n",
      "\t{'timestamp': '2019-09-30T21:44:44-07:00', 'value': None}\n",
      "CS-Surface61.Testing.VIYIOL\n",
      "\t{'timestamp': '2019-09-30T21:00:00-07:00', 'value': None}\n"
     ]
    }
   ],
   "source": [
    "# Get the default value (most recent - will be the No Data value)\n",
    "with CanaryView() as view:\n",
    "    for tagPath, values in view.getTagData(tagList):\n",
    "        print(tagPath)\n",
    "        for value in values:\n",
    "            print('\\t%r' % value)"
   ]
  },
  {
   "cell_type": "code",
   "execution_count": 18,
   "metadata": {},
   "outputs": [
    {
     "name": "stdout",
     "output_type": "stream",
     "text": [
      "CS-Surface61.Testing.TDONAZ\n",
      "\t{'timestamp': '2019-09-30T18:11:11-07:00', 'value': 1.11}\n",
      "\t{'timestamp': '2019-09-30T19:22:22-07:00', 'value': 2.22}\n",
      "CS-Surface61.Testing.VIYIOL\n",
      "\t{'timestamp': '2019-09-30T18:00:00-07:00', 'value': 1}\n",
      "\t{'timestamp': '2019-09-30T19:00:00-07:00', 'value': 2}\n"
     ]
    }
   ],
   "source": [
    "# Get the values for each tag between given dates\n",
    "with CanaryView() as view:\n",
    "    for tagPath, values in view.getTagData(tagList, \n",
    "                                           start='2019-10-01T00:00:00Z',\n",
    "                                           end='2019-10-01T03:00Z'):\n",
    "        print(tagPath)\n",
    "        for value in values:\n",
    "            print('\\t%r' % value)"
   ]
  },
  {
   "cell_type": "markdown",
   "metadata": {},
   "source": [
    "## Inject and retrieve live data"
   ]
  },
  {
   "cell_type": "code",
   "execution_count": 19,
   "metadata": {},
   "outputs": [],
   "source": [
    "start = arrow.get('2019-10-02 12:00:00Z')"
   ]
  },
  {
   "cell_type": "code",
   "execution_count": 20,
   "metadata": {},
   "outputs": [
    {
     "data": {
      "text/plain": [
       "<Arrow [2019-10-02T12:00:05+00:00]>"
      ]
     },
     "execution_count": 20,
     "metadata": {},
     "output_type": "execute_result"
    }
   ],
   "source": [
    "start.shift(seconds=5)"
   ]
  },
  {
   "cell_type": "code",
   "execution_count": 21,
   "metadata": {},
   "outputs": [],
   "source": [
    "testDuration = 10\n",
    "testInterval = 2"
   ]
  },
  {
   "cell_type": "code",
   "execution_count": 22,
   "metadata": {},
   "outputs": [],
   "source": [
    "def generateData(tagPaths=tagPaths, duration=testDuration, interval=testInterval):\n",
    "    \n",
    "    with CanarySender() as send:\n",
    "        for step in range(testDuration//interval):\n",
    "\n",
    "            tvqDict = {}\n",
    "            \n",
    "            for ix,tagPath in enumerate(tagPaths):\n",
    "                tvqDict[tagPath] = [ Tvq(arrow.get().isoformat(), 100*step + ix) ]\n",
    "\n",
    "            send.storeData(tvqDict)\n",
    "            \n",
    "            sleep(interval)"
   ]
  },
  {
   "cell_type": "markdown",
   "metadata": {},
   "source": [
    "### One Tag"
   ]
  },
  {
   "cell_type": "code",
   "execution_count": 23,
   "metadata": {},
   "outputs": [],
   "source": [
    "t1 = threading.Thread(target=generateData, args=([tagPaths[0]],))\n",
    "t1.start()"
   ]
  },
  {
   "cell_type": "code",
   "execution_count": 24,
   "metadata": {},
   "outputs": [
    {
     "name": "stdout",
     "output_type": "stream",
     "text": [
      "Update 0\n",
      "{'timestamp': '2019-10-31T15:19:48.699380-07:00', 'value': 0}\n",
      "Update 1\n",
      "{'timestamp': '2019-10-31T15:19:50.717875-07:00', 'value': 100}\n",
      "Update 2\n",
      "{'timestamp': '2019-10-31T15:19:52.722385-07:00', 'value': 200}\n",
      "{'timestamp': '2019-10-31T15:19:54.726253-07:00', 'value': 300}\n",
      "Update 3\n",
      "{'timestamp': '2019-10-31T15:19:56.729890-07:00', 'value': 400}\n",
      "Update 4\n",
      "{'timestamp': '2019-10-31T15:19:56.729890-07:00', 'value': None}\n"
     ]
    }
   ],
   "source": [
    "stepTime = 3\n",
    "\n",
    "with CanaryView() as view:\n",
    "    for step in range( (testDuration//stepTime) + 2):\n",
    "        print('Update %d' % step)\n",
    "        for value in view.getLiveData(mainView + '.' + tagPaths[0]):\n",
    "            print(value)\n",
    "        sleep(stepTime)"
   ]
  },
  {
   "cell_type": "markdown",
   "metadata": {},
   "source": [
    "### Multiple tags"
   ]
  },
  {
   "cell_type": "code",
   "execution_count": 25,
   "metadata": {},
   "outputs": [],
   "source": [
    "# Only update the tags after the first\n",
    "t2= threading.Thread(target=generateData, args=(tagPaths[1:],))\n",
    "t2.start()"
   ]
  },
  {
   "cell_type": "code",
   "execution_count": 26,
   "metadata": {},
   "outputs": [
    {
     "name": "stdout",
     "output_type": "stream",
     "text": [
      "Update 0\n",
      "\tCS-Surface61.Testing.SAWQUY\n",
      "\t\t{'timestamp': '2019-10-31T15:19:56.729890-07:00', 'value': None}\n",
      "\tCS-Surface61.Testing.TDONAZ\n",
      "\t\t{'timestamp': '2019-10-31T15:20:12.425969-07:00', 'value': 100}\n",
      "\tCS-Surface61.Testing.VIYIOL\n",
      "\t\t{'timestamp': '2019-10-31T15:20:12.425969-07:00', 'value': 101}\n",
      "Update 1\n",
      "\tCS-Surface61.Testing.TDONAZ\n",
      "\t\t{'timestamp': '2019-10-31T15:20:14.430343-07:00', 'value': 200}\n",
      "\tCS-Surface61.Testing.VIYIOL\n",
      "\t\t{'timestamp': '2019-10-31T15:20:14.430343-07:00', 'value': 201}\n",
      "Update 2\n",
      "\tCS-Surface61.Testing.TDONAZ\n",
      "\t\t{'timestamp': '2019-10-31T15:20:16.433718-07:00', 'value': 300}\n",
      "\t\t{'timestamp': '2019-10-31T15:20:18.436546-07:00', 'value': 400}\n",
      "\tCS-Surface61.Testing.VIYIOL\n",
      "\t\t{'timestamp': '2019-10-31T15:20:16.433718-07:00', 'value': 301}\n",
      "\t\t{'timestamp': '2019-10-31T15:20:18.436546-07:00', 'value': 401}\n",
      "Update 3\n",
      "\tCS-Surface61.Testing.TDONAZ\n",
      "\t\t{'timestamp': '2019-10-31T15:20:18.436546-07:00', 'value': None}\n",
      "\tCS-Surface61.Testing.VIYIOL\n",
      "\t\t{'timestamp': '2019-10-31T15:20:18.436546-07:00', 'value': None}\n",
      "Update 4\n"
     ]
    }
   ],
   "source": [
    "# Check all tags so that we can see the first _not_ get updated in later calls\n",
    "\n",
    "viewQualifiedTagPaths = [mainView + '.' + tagPath for tagPath in tagPaths]\n",
    "stepTime = 3\n",
    "\n",
    "with CanaryView() as view:\n",
    "    for step in range( (testDuration//stepTime)+2):\n",
    "        print('Update %d' % step)\n",
    "        for tagPath,values in view.getLiveData(viewQualifiedTagPaths):\n",
    "            print('\\t%s' % tagPath)\n",
    "            for value in values:\n",
    "                print('\\t\\t%r' % value)\n",
    "        sleep(stepTime)"
   ]
  },
  {
   "cell_type": "markdown",
   "metadata": {},
   "source": [
    "### Get Tags"
   ]
  },
  {
   "cell_type": "code",
   "execution_count": 27,
   "metadata": {},
   "outputs": [
    {
     "name": "stdout",
     "output_type": "stream",
     "text": [
      "CS-Surface61.Testing.SAWQUY\n",
      "CS-Surface61.Testing.TDONAZ\n",
      "CS-Surface61.Testing.VIYIOL\n"
     ]
    }
   ],
   "source": [
    "for tagPath in view.browseTags('CS-Surface61.Testing'):\n",
    "    print(tagPath)"
   ]
  },
  {
   "cell_type": "code",
   "execution_count": 28,
   "metadata": {},
   "outputs": [
    {
     "name": "stdout",
     "output_type": "stream",
     "text": [
      "CS-Surface61.Testing.SAWQUY\n",
      "CS-Surface61.Testing.TDONAZ\n",
      "CS-Surface61.Testing.VIYIOL\n",
      "CS-Surface61.Testing2.Quick Data!!!!\n"
     ]
    }
   ],
   "source": [
    "for tagPath in view.browseTags(search='Testing', deep=True):\n",
    "    print(tagPath)"
   ]
  },
  {
   "cell_type": "code",
   "execution_count": null,
   "metadata": {},
   "outputs": [],
   "source": []
  },
  {
   "cell_type": "markdown",
   "metadata": {},
   "source": [
    "# End Automated Testing"
   ]
  },
  {
   "cell_type": "code",
   "execution_count": 29,
   "metadata": {},
   "outputs": [
    {
     "ename": "KeyboardInterrupt",
     "evalue": "",
     "output_type": "error",
     "traceback": [
      "\u001b[1;31m---------------------------------------------------------------------------\u001b[0m",
      "\u001b[1;31mKeyboardInterrupt\u001b[0m                         Traceback (most recent call last)",
      "\u001b[1;32m<ipython-input-29-c761920b81b0>\u001b[0m in \u001b[0;36m<module>\u001b[1;34m\u001b[0m\n\u001b[1;32m----> 1\u001b[1;33m \u001b[1;32mraise\u001b[0m \u001b[0mKeyboardInterrupt\u001b[0m\u001b[1;33m\u001b[0m\u001b[1;33m\u001b[0m\u001b[0m\n\u001b[0m",
      "\u001b[1;31mKeyboardInterrupt\u001b[0m: "
     ]
    }
   ],
   "source": [
    "raise KeyboardInterrupt"
   ]
  },
  {
   "cell_type": "code",
   "execution_count": null,
   "metadata": {},
   "outputs": [],
   "source": [
    "Tvq((2019,10,1), 234)"
   ]
  },
  {
   "cell_type": "code",
   "execution_count": null,
   "metadata": {},
   "outputs": [],
   "source": []
  }
 ],
 "metadata": {
  "kernelspec": {
   "display_name": ".venv",
   "language": "python",
   "name": "python3"
  },
  "language_info": {
   "codemirror_mode": {
    "name": "ipython",
    "version": 3
   },
   "file_extension": ".py",
   "mimetype": "text/x-python",
   "name": "python",
   "nbconvert_exporter": "python",
   "pygments_lexer": "ipython3",
   "version": "3.12.9"
  }
 },
 "nbformat": 4,
 "nbformat_minor": 4
}
